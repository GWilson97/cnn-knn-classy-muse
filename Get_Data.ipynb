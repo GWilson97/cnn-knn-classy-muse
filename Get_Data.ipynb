{
  "nbformat": 4,
  "nbformat_minor": 0,
  "metadata": {
    "colab": {
      "name": "Get Data.ipynb",
      "provenance": [],
      "collapsed_sections": [
        "59w5CJI-JN1J",
        "7AKl1VbyMEtq",
        "wEe2PnBmAs3t",
        "px7ptDmzL-DY",
        "Vfsdr940LmDw",
        "2ARN8YW5Jqe-"
      ]
    },
    "kernelspec": {
      "name": "python3",
      "display_name": "Python 3"
    },
    "language_info": {
      "name": "python"
    }
  },
  "cells": [
    {
      "cell_type": "markdown",
      "metadata": {
        "id": "SUIPXWqeoQkC"
      },
      "source": [
        "# Data Science Life Cycle and Process\n",
        "\n",
        "Step 1: Data Engineering \n",
        "\n",
        "- Get Data.ipynb\n",
        ">\n",
        "> This notebook is designed to be the start of the data ingestion pipeline \n",
        "> for getting the Raw Data from Sources, GTZAN and Spotify\n",
        "\n",
        "Step 2: Exploratory Data Analysis \n",
        "\n",
        "- EDA.ipynb\n",
        ">\n",
        "> This notebook is designed to be the EDA for audio feature extraction using Librosa. \n",
        "> We will explore things like Mel-Frequency Cepstral Coefficients and Canstant-Q Transform and Chromagram with Pitch Classes\n",
        "\n",
        "Step 3: Modeling, Validation, and Testing\n",
        "\n",
        "CNN - Convolution Neural Network    \n",
        "KNN - K Nearst Neighbor \n",
        "- Modeling.ipynb\n",
        ">\n",
        "> This notebook is designed to be the implementation of KNN & CNN from Keras Tensorflow and can be run on either GTZAN(CNN Only) or Spotifiy datasets.\n",
        ">      \n",
        "\n"
      ]
    },
    {
      "cell_type": "markdown",
      "metadata": {
        "id": "WgZjbjrFHfbH"
      },
      "source": [
        "# This Notebook covers how to interact with Spotify API\n",
        "\n",
        "Info: https://developer.spotify.com/dashboard/"
      ]
    },
    {
      "cell_type": "code",
      "metadata": {
        "id": "1zzyWOhTHes-"
      },
      "source": [
        "# Needed information to be used down stream \n",
        "\n",
        "# Parameters to decide what to pull from Spotify based on the Genre DataSet\n",
        "NumberOfGenres = 10 # Max 5683\n",
        "NumberOfSongs = 200 # \n",
        "Randomize = False # Using random we can select from max Genre & Songs as a sampling method\n",
        "RandomSeed = 6 # Provide repeatability to the experiment\n",
        "\n",
        "# Google Drive path, aka you need to make this path in your drive to use as the root\n",
        "RootPath = '/content/drive/MyDrive/W207'\n",
        "\n",
        "# Spotify Rest API Credentials\n",
        "ClientID = 'YOUR-CLIENT-ID' \n",
        "SecretID = 'YOUR-SECRET-ID' \n",
        "\n",
        "# Genre source data file path\n",
        "GenreFilePath = RootPath + '/Data/Genre.txt'\n",
        "\n",
        "# Is the path for the presistence of the Spotify data sets pulled\n",
        "SpotifyDataPath = RootPath + \"/Data/Spotify/\" + str(NumberOfGenres) + \"-\" + str(NumberOfSongs) + \"-\" + str(Randomize) + \"-\" + str(RandomSeed )\n",
        "\n",
        "# GTZAN Data path\n",
        "GTZANDataPath = RootPath + \"/Data/GTZAN/\""
      ],
      "execution_count": null,
      "outputs": []
    },
    {
      "cell_type": "markdown",
      "metadata": {
        "id": "59w5CJI-JN1J"
      },
      "source": [
        "# Imports"
      ]
    },
    {
      "cell_type": "code",
      "metadata": {
        "id": "WPLDNpa3osvJ"
      },
      "source": [
        "# Imports\n",
        "from IPython.display import clear_output\n",
        "from google.colab import drive\n",
        "from bs4 import BeautifulSoup\n",
        "import pandas as pd\n",
        "import requests\n",
        "import tarfile\n",
        "import random\n",
        "import json\n",
        "import time\n",
        "import os"
      ],
      "execution_count": null,
      "outputs": []
    },
    {
      "cell_type": "markdown",
      "metadata": {
        "id": "-jCVslhCujlo"
      },
      "source": [
        "# Methods"
      ]
    },
    {
      "cell_type": "markdown",
      "source": [
        "## Define helper methods"
      ],
      "metadata": {
        "id": "7AKl1VbyMEtq"
      }
    },
    {
      "cell_type": "code",
      "metadata": {
        "id": "7__V2QdhumT7"
      },
      "source": [
        "# Method for displaying progress for long running processes\n",
        "def update_progress(current, total, msg = '', bar_length = 20):\n",
        "  '''\n",
        "    Controls the output of a Jupyter cell for progress and message display without taking up to much notebook space\n",
        "\n",
        "          Parameters:\n",
        "                  current (int): An integer\n",
        "                  Defines the current iteration on the progress\n",
        "                      \n",
        "                  total (int): An integer\n",
        "                  Defines the number of elements for total progress\n",
        "\n",
        "                  msg (str): A string\n",
        "                  The Message to be displayed\n",
        "\n",
        "                  bar_length (int): An integer \n",
        "                  Determines the width of the progress bar by number of ticks to display\n",
        "\n",
        "          Returns:\n",
        "                  Controled output for progress information in a Jupyter Notebook, best used for long running processes \n",
        "                  that don't require presistance of the output for record. \n",
        "  '''\n",
        "  \n",
        "  # Defines the style to displace on the progress blocks\n",
        "  style = lambda x: \"\\x1b[1;30;43m\" + str(x) + \"\\x1b[0m\"\n",
        "\n",
        "  # Determines teh progress ratio\n",
        "  progress = current / total\n",
        "\n",
        "  #\n",
        "  if isinstance(progress, int): progress = float(progress)\n",
        "  if not isinstance(progress, float) or progress < 0: progress = 0\n",
        "  if progress >= 1: progress = 1\n",
        "\n",
        "  block = int(round(bar_length * progress))\n",
        "\n",
        "  # Using imports (from IPython.display import clear_output)\n",
        "  clear_output(wait = True)\n",
        "\n",
        "  text = \"Progress: [{0}] {1:.1f}% ({2} of {3})\".format( style(\"░\" * block) + \"-\" * (bar_length - block), progress * 100, current, total)\n",
        "  \n",
        "  # Display the text to output\n",
        "  print(text)\n",
        "  # Display further message context\n",
        "  if msg != '': \n",
        "    print(msg)"
      ],
      "execution_count": null,
      "outputs": []
    },
    {
      "cell_type": "code",
      "source": [
        "def laptime(stime, total, current):\n",
        "  running = (time.time() - stime)\n",
        "  hrs, r = divmod(running, 3600)\n",
        "  mins, secs = divmod(r, 60)\n",
        "\n",
        "  remaining = (running/(current+1)) * (total - (current+1))\n",
        "  hours, rem = divmod(remaining, 3600)\n",
        "  minutes, seconds = divmod(rem, 60)\n",
        "\n",
        "  running = {\"hours\":hrs,\"remainder\":r,\"minutes\":mins,\"seconds\":secs}\n",
        "  remaining = {\"hours\":hours,\"remainder\":rem,\"minutes\":minutes,\"seconds\":remaining}\n",
        "    \n",
        "  return {\"Running\":running, \"Remaining\":remaining}"
      ],
      "metadata": {
        "id": "y5j3K-BZUuN8"
      },
      "execution_count": null,
      "outputs": []
    },
    {
      "cell_type": "markdown",
      "metadata": {
        "id": "3w73br8KHYLa"
      },
      "source": [
        "## Define the method to get Tracks directly from Spotify REST API"
      ]
    },
    {
      "cell_type": "code",
      "source": [
        "def GetAPIToken(ClientID, SecretID):\n",
        "  AUTH_URL = 'https://accounts.spotify.com/api/token'\n",
        "\n",
        "  # POST\n",
        "  auth_response = requests.post(AUTH_URL, {\n",
        "      'grant_type': 'client_credentials',\n",
        "      'client_id': ClientID,\n",
        "      'client_secret': SecretID,\n",
        "  })\n",
        "\n",
        "  # convert the response to JSON\n",
        "  auth_response_data = auth_response.json()\n",
        "\n",
        "  # save the access token\n",
        "  access_token = auth_response_data['access_token']\n",
        "\n",
        "  return access_token"
      ],
      "metadata": {
        "id": "u_SIYV6_3mPg"
      },
      "execution_count": null,
      "outputs": []
    },
    {
      "cell_type": "code",
      "source": [
        "def APIrequest(get, access_token):\n",
        "  '''\n",
        "  Manages the Spotify REST API\n",
        "  Returns \n",
        "\n",
        "          Parameters:\n",
        "                  get (string): A string that should be apended to the base url path for the get function beinging used    \n",
        "                  e.g. https://api.spotify.com/v1/{artists/{id}/albums}\n",
        "\n",
        "          Returns:\n",
        "                  A dictionary of with ('items') from Spotify\n",
        "                  \"See Spoftify API guidelines\"\n",
        "  '''\n",
        "  headers = {'Authorization': 'Bearer {token}'.format(token=access_token)}\n",
        "\n",
        "  # base URL of all Spotify API endpoints\n",
        "  BASE_URL = 'https://api.spotify.com/v1/'\n",
        "\n",
        "  # Rest API throttle and error trapping logic\n",
        "  error = True\n",
        "  z = 1\n",
        "  while error:\n",
        "    try:\n",
        "      request = requests.get(BASE_URL + get, headers=headers).json()\n",
        "      error = not error\n",
        "    except:\n",
        "      print('Throttling API request...')\n",
        "      time.sleep(z) # Sleep for n seconds to throttle for rest api limits\n",
        "      z += 1\n",
        "\n",
        "  time.sleep(.025) # Async delay to pop mem from the call\n",
        "\n",
        "  return request"
      ],
      "metadata": {
        "id": "-mrYW0KGRxL0"
      },
      "execution_count": null,
      "outputs": []
    },
    {
      "cell_type": "code",
      "metadata": {
        "id": "2otSxbfFgRnL"
      },
      "source": [
        "def GetTracks(GenreFilePath, AccessToken ,NumberOfGenres = 10, NumberOfSongs = 10, Rnd = True, Seed = 0):\n",
        "  '''\n",
        "  Get Tracks directly from Spotify REST API\n",
        "  Returns \n",
        "\n",
        "          Parameters:\n",
        "                  NumberOfGenres (int): An integer (0, N)\n",
        "                  defines the number of Genres to get playlist songs for.                \n",
        "                  \n",
        "                  Rnd (boolean): A boolean & | integer (1, 0)~ (True, False)\n",
        "                  defines if the function is to use random selection and shuffling.\n",
        "                  \n",
        "                  seed (int): An integer (0, N)\n",
        "                  defines the random seed to use for repeatability.              \n",
        "\n",
        "          Returns:\n",
        "                  A DataFrame of Genre playlists songs('tracks') information for download of preview urls to be used in sampling of Music Genre Classification dataset from Spotify.\n",
        "                  100 songs per Genre playlist as a max. \"See Spoftify API guidelines\"\n",
        "  '''\n",
        "  g = Genres(GenreFilePath)\n",
        "  genres = list(g.keys())\n",
        "  if Rnd:\n",
        "    random.seed(Seed)\n",
        "    random.shuffle(genres)\n",
        "\n",
        "  columns = ['Genre', 'PlaylistID', 'TrackID', 'ArtistID', 'PreviewUrl']\n",
        "  df = pd.DataFrame(columns = columns)\n",
        "  stime = time.time() # used to capture run time and estimate total time to execute\n",
        "\n",
        "  for genre in genres[:NumberOfGenres]: \n",
        "    playlist_id = g[genre]\n",
        "    \n",
        "    # Rest API throttle and error trapping logic\n",
        "    playlist_tracks = APIrequest('playlists/' + playlist_id + '/tracks', AccessToken)\n",
        "    if 'items' in playlist_tracks.keys() and Rnd: random.shuffle(playlist_tracks['items'])  \n",
        "\n",
        "    # Add existing info of tracks per genre playlist\n",
        "    for tr in playlist_tracks['items']:  \n",
        "\n",
        "      track = tr['track']\n",
        "      idx = len(df) \n",
        "\n",
        "      if str(track['preview_url']) == 'None': continue # If we don't have a url move to the next\n",
        "\n",
        "      df.loc[idx, 'Genre'] = genre\n",
        "      df.loc[idx, 'PlaylistID'] = g[genre]   \n",
        "      df.loc[idx, 'TrackID'] = str(track['id'])\n",
        "      df.loc[idx, 'ArtistID'] = str(track['album']['artists'][0]['id']) if track['album']['artists'] else ''\n",
        "      df.loc[idx, 'PreviewUrl'] = str(track['preview_url']) \n",
        "        \n",
        "      lt = laptime(stime, NumberOfGenres * NumberOfSongs, idx  + 1)\n",
        "      msg = 'Extracting... ' \\\n",
        "          + '\\n       Genre: ' + genre \\\n",
        "          + '\\n   TrackName: ' + str(track['name']) \\\n",
        "          + '\\n' \\\n",
        "          + '\\n        Time Running : ' + \"{:0>2}:{:0>2}:{:05.2f}\".format(int(lt['Running']['hours']),int(lt['Running']['minutes']),lt['Running']['seconds']) \\\n",
        "          + '\\n Time Remaining Est. : ' + \"{:0>2}:{:0>2}:{:05.2f}\".format(int(lt['Remaining']['hours']),int(lt['Remaining']['minutes']),lt['Remaining']['seconds']) \n",
        "\n",
        "      update_progress(idx  + 1, NumberOfGenres * NumberOfSongs, msg)\n",
        "\n",
        "      if len(df[df['Genre'] == genre]) >= NumberOfSongs - 1: \n",
        "        break # Move to next genre if we have a completed to number of songs\n",
        "      else: # Extend songs from standard genre list to meet number of songs\n",
        "      \n",
        "        # Get artists list for extending genre song depth\n",
        "        artists = [artist[0]['id'] for artist in [track['track']['album']['artists'] for track in playlist_tracks['items']]] \n",
        "\n",
        "        for artist_id in artists:\n",
        "          # eg. https://api.spotify.com/v1/artists/{id}/albums\n",
        "          r1 = APIrequest('artists/' + artist_id + '/albums', AccessToken)\n",
        "\n",
        "          # Get Tracks by Album\n",
        "          for album in r1['items']:\n",
        "            \n",
        "            # Get Track id's by Album\n",
        "            # eg. https://api.spotify.com/v1/albums/{id}/tracks\n",
        "            r2 = APIrequest('albums/' + album['id'] + '/tracks', AccessToken) \n",
        "\n",
        "            for track in r2['items']:        \n",
        "              # new df record\n",
        "              idx = len(df)\n",
        "              \n",
        "              if str(track['preview_url']) == 'None': continue # If we don't have a url move to the next\n",
        "\n",
        "              # Update DF with new Track_id and Artist_ID, backprobagate the genre\n",
        "              df.loc[idx, 'Genre'] = genre\n",
        "              df.loc[idx, 'PlaylistID'] = 'None'  \n",
        "              df.loc[idx, 'TrackID'] = track['id']\n",
        "              df.loc[idx, 'ArtistID'] = artist_id\n",
        "              df.loc[idx, 'PreviewUrl'] = str(track['preview_url'])\n",
        "              \n",
        "              lt = laptime(stime, NumberOfGenres * NumberOfSongs, idx  + 1)\n",
        "              msg = 'Extracting extended genre by artist... ' \\\n",
        "                  + '\\n       Genre: ' + genre \\\n",
        "                  + '\\n   TrackName: ' + str(track['name']) \\\n",
        "                  + '\\n' \\\n",
        "                  + '\\n        Time Running : ' + \"{:0>2}:{:0>2}:{:05.2f}\".format(int(lt['Running']['hours']),int(lt['Running']['minutes']),lt['Running']['seconds']) \\\n",
        "                  + '\\n Time Remaining Est. : ' + \"{:0>2}:{:0>2}:{:05.2f}\".format(int(lt['Remaining']['hours']),int(lt['Remaining']['minutes']),lt['Remaining']['seconds']) \n",
        "\n",
        "              update_progress(idx  + 1, NumberOfGenres * NumberOfSongs, msg)\n",
        "\n",
        "              if len(df[df['Genre'] == genre]) >= NumberOfSongs - 1: break # Move to next genre if we have a completed to number of songs\n",
        "            if len(df[df['Genre'] == genre]) >= NumberOfSongs - 1: break # Move to next genre if we have a completed to number of songs\n",
        "          if len(df[df['Genre'] == genre]) >= NumberOfSongs - 1: break # Move to next genre if we have a completed to number of songs\n",
        "\n",
        "  return df"
      ],
      "execution_count": null,
      "outputs": []
    },
    {
      "cell_type": "code",
      "source": [
        "def GetFeatures(DatasetPath, AccessToken, NumberOfGenres = 10, NumberOfSongs = 10, Seed = 0):\n",
        "  '''\n",
        "  Get Track Features directly from Spotify REST API\n",
        "  Returns \n",
        "\n",
        "          Parameters:\n",
        "                  NumberOfGenres (int): An integer (0, N)\n",
        "                  defines the number of Genres to get playlist songs for.                \n",
        "                  \n",
        "                  Rnd (boolean): A boolean & | integer (1, 0)~ (True, False)\n",
        "                  defines if the function is to use random selection and shuffling.\n",
        "                  \n",
        "                  seed (int): An integer (0, N)\n",
        "                  defines the random seed to use for repeatability.              \n",
        "\n",
        "\n",
        "  '''\n",
        "  columns = ['Genre', 'TrackID', \"Danceability\", \"Energy\", \"Valence\"]\n",
        "  df = pd.DataFrame(columns = columns)\n",
        "  stime = time.time() # used to capture run time and estimate total time to execute\n",
        "\n",
        "  file_count = sum(len(files) for _, _, files in os.walk(DatasetPath))\n",
        "\n",
        "  for (root, dirs, files) in os.walk(DatasetPath):\n",
        "    if len(files) == 0 : continue # skip top root path that list folders only\n",
        "        \n",
        "    Genre = root.split('/')[-1]\n",
        "    for file in files:\n",
        "      track_id = file.split(\".\")[0]    \n",
        "    \n",
        "      # Rest API throttle and error trapping logic\n",
        "      track_features = APIrequest('audio-features/' + track_id, AccessToken)\n",
        "      if 'error' in track_features.keys(): continue\n",
        "\n",
        "      # Add existing info of tracks per genre playlist\n",
        "      idx = len(df) \n",
        "\n",
        "      df.loc[idx, 'Genre'] = Genre\n",
        "      df.loc[idx, 'TrackID'] = str(track_features['id'])\n",
        "      df.loc[idx, 'Danceability'] = str(track_features['danceability'])\n",
        "      df.loc[idx, 'Energy'] = str(track_features['energy'])\n",
        "      df.loc[idx, 'Valence'] = str(track_features['valence'])\n",
        "        \n",
        "      lt = laptime(stime, file_count, idx  + 1)\n",
        "      msg = 'Extracting... ' \\\n",
        "          + '\\n       Genre: ' + Genre \\\n",
        "          + '\\n   TrackName: ' + str(track_features['id']) \\\n",
        "          + '\\n' \\\n",
        "          + '\\n        Time Running : ' + \"{:0>2}:{:0>2}:{:05.2f}\".format(int(lt['Running']['hours']),int(lt['Running']['minutes']),lt['Running']['seconds']) \\\n",
        "          + '\\n Time Remaining Est. : ' + \"{:0>2}:{:0>2}:{:05.2f}\".format(int(lt['Remaining']['hours']),int(lt['Remaining']['minutes']),lt['Remaining']['seconds']) \n",
        "\n",
        "      update_progress(idx  + 1, file_count, msg)\n",
        "\n",
        "  return df"
      ],
      "metadata": {
        "id": "y6erw7fF5jLN"
      },
      "execution_count": null,
      "outputs": []
    },
    {
      "cell_type": "markdown",
      "metadata": {
        "id": "wEe2PnBmAs3t"
      },
      "source": [
        "## Define Get Genres method\n",
        "\n",
        "Presist to file\n",
        "\n",
        "You will need to attach your Google Drive and set the \n",
        "\n",
        "Source: https://everynoise.com/everynoise1d.cgi?root=dark%20minimal%20techno&scope=all"
      ]
    },
    {
      "cell_type": "code",
      "metadata": {
        "id": "9kCOzzZaoT40"
      },
      "source": [
        "def Genres(FilePath, local = True, write = False):\n",
        "  '''\n",
        "  Returns a dictionary of Genre's from everynoise.com.\n",
        "\n",
        "          Parameters:\n",
        "                  local (boolean): A boolean & | integer (1,0)~ (True, False)\n",
        "                  defines if the function is to use the local file for loading the dictionary.\n",
        "                  If the local file doesn't exist then it goto the web url and download it.                 \n",
        "\n",
        "          Returns:\n",
        "                  Genre's (dictionary): labeled list of music genre's with spotify playlist id's that correstond to the genre.\n",
        "                  100 songs per playlist\n",
        "  '''\n",
        "  dictionary = {}\n",
        "\n",
        "  if local & os.path.exists(FilePath):\n",
        "    with open(FilePath, 'r') as f:\n",
        "      data = f.read()\n",
        "      dictionary = json.loads(data)\n",
        "  else:\n",
        "    url = 'https://everynoise.com/everynoise1d.cgi?scope=all'\n",
        "    page = requests.get(url)\n",
        "    soup = BeautifulSoup(page.content, 'html.parser')\n",
        "\n",
        "    for row in soup.find('table').find_all('tr'):\n",
        "        for i, data in enumerate(row.find_all('td')):        \n",
        "            if i == 1:\n",
        "                uri = data.find('a', href=True)['href'].split(':')[-1]            \n",
        "            if i == 2:\n",
        "                genre = data.find('a').getText()\n",
        "        dictionary[genre] = uri\n",
        "        #dictionary = {row.find_all('td')[2].find('a').getText(): row.find_all('td')[1].find('a', href=True)['href'] for i, data in enumerate(row.find_all('td')) for row in soup.find('table').find_all('tr') if i > 1 }\n",
        "    \n",
        "    if not write or not os.path.exists(FilePath):       \n",
        "      with open(FilePath, 'w') as file: \n",
        "          file.write(json.dumps(dictionary))\n",
        "\n",
        "  return dictionary"
      ],
      "execution_count": null,
      "outputs": []
    },
    {
      "cell_type": "code",
      "metadata": {
        "id": "i6Qem9nloT_k",
        "colab": {
          "base_uri": "https://localhost:8080/"
        },
        "outputId": "c9f811dc-7e10-400a-f523-014209557a4a"
      },
      "source": [
        "len(Genres(GenreFilePath))"
      ],
      "execution_count": null,
      "outputs": [
        {
          "output_type": "execute_result",
          "data": {
            "text/plain": [
              "5683"
            ]
          },
          "metadata": {},
          "execution_count": 8
        }
      ]
    },
    {
      "cell_type": "markdown",
      "source": [
        "## Define Get Spotify Raw Data download method"
      ],
      "metadata": {
        "id": "px7ptDmzL-DY"
      }
    },
    {
      "cell_type": "code",
      "metadata": {
        "id": "JH68FnxldByW"
      },
      "source": [
        "# Download Spotify Preview Samples for Genre's and Songs\n",
        "def downloadRawData(df):\n",
        "  '''\n",
        "  Get Raw data from Spotify REST API\n",
        "  Returns \n",
        "\n",
        "          Parameters:\n",
        "                  df (pandas dataframe): A dataframe \n",
        "                  holds the list of preview urls from spotifiy to download      \n",
        "\n",
        "          Returns:\n",
        "                  None\n",
        "  '''\n",
        "  stime = time.time() \n",
        "  for i, row in df.iterrows():\n",
        "    url = row['PreviewUrl']\n",
        "    filename = SpotifyDataPath + \"/\" + row['Genre'] + \"/\" + row['TrackID'] + \".mp3\"\n",
        "\n",
        "    if not os.path.exists(os.path.dirname(filename)):\n",
        "        try:\n",
        "            os.makedirs(os.path.dirname(filename))\n",
        "        except OSError as exc: # Guard against race condition\n",
        "            if exc.errno != errno.EEXIST:\n",
        "                raise\n",
        "\n",
        "    with open(filename, 'wb') as file:\n",
        "      file.write(requests.get(url).content)     \n",
        "\n",
        "    lt = laptime(stime, len(df), i + 1)\n",
        "    msg = r'Presisting to... ' \\\n",
        "        + '\\n    Path: ' + SpotifyDataPath \\\n",
        "        + '\\n   Genre: ' + row['Genre'] \\\n",
        "        + '\\n TrackID: ' + row['TrackID'] \\\n",
        "        + '\\n     Url: ' + url \\\n",
        "        + '\\n' \\\n",
        "        + '\\n        Time Running : ' + \"{:0>2}:{:0>2}:{:05.2f}\".format(int(lt['Running']['hours']),int(lt['Running']['minutes']),lt['Running']['seconds']) \\\n",
        "        + '\\n Time Remaining Est. : ' + \"{:0>2}:{:0>2}:{:05.2f}\".format(int(lt['Remaining']['hours']),int(lt['Remaining']['minutes']),lt['Remaining']['seconds']) \n",
        "\n",
        "        \n",
        "    update_progress(i + 1, len(df), msg)"
      ],
      "execution_count": null,
      "outputs": []
    },
    {
      "cell_type": "markdown",
      "source": [
        "## Test methods"
      ],
      "metadata": {
        "id": "Vfsdr940LmDw"
      }
    },
    {
      "cell_type": "code",
      "metadata": {
        "colab": {
          "base_uri": "https://localhost:8080/"
        },
        "id": "8Gicqx42eAuz",
        "outputId": "a7ca2af1-3b48-4402-c412-30dec979cdc9"
      },
      "source": [
        "update_progress(250,1000, 'Testing message')"
      ],
      "execution_count": null,
      "outputs": [
        {
          "output_type": "stream",
          "name": "stdout",
          "text": [
            "Progress: [\u001b[1;30;43m░░░░░\u001b[0m---------------] 25.0% (250 of 1000)\n",
            "Testing message\n"
          ]
        }
      ]
    },
    {
      "cell_type": "code",
      "metadata": {
        "colab": {
          "base_uri": "https://localhost:8080/"
        },
        "id": "XR3mw1ikgjps",
        "outputId": "36c7bb1b-052b-44f7-eef2-ddd9bec7f9d2"
      },
      "source": [
        "update_progress(750,1000, '')"
      ],
      "execution_count": null,
      "outputs": [
        {
          "output_type": "stream",
          "name": "stdout",
          "text": [
            "Progress: [\u001b[1;30;43m░░░░░░░░░░░░░░░\u001b[0m-----] 75.0% (750 of 1000)\n"
          ]
        }
      ]
    },
    {
      "cell_type": "code",
      "source": [
        "for i in range(0,100):\n",
        "  time.sleep(.05)\n",
        "  msg = '' \\\n",
        "      + 'Current iteration: ' + str(i) \\\n",
        "      + '\\n Out of: ' + str(100)\n",
        "  update_progress(i, 100, msg )"
      ],
      "metadata": {
        "colab": {
          "base_uri": "https://localhost:8080/"
        },
        "id": "X4lBhlStRfKj",
        "outputId": "9bc8e578-a7ba-4272-a43f-e46c6443cb4d"
      },
      "execution_count": null,
      "outputs": [
        {
          "output_type": "stream",
          "name": "stdout",
          "text": [
            "Progress: [\u001b[1;30;43m░░░░░░░░░░░░░░░░░░░░\u001b[0m] 99.0% (99 of 100)\n",
            "Current iteration: 99\n",
            " Out of: 100\n"
          ]
        }
      ]
    },
    {
      "cell_type": "markdown",
      "metadata": {
        "id": "2ARN8YW5Jqe-"
      },
      "source": [
        "# Preprocessing of data "
      ]
    },
    {
      "cell_type": "markdown",
      "metadata": {
        "id": "n2MTNV2cjdZg"
      },
      "source": [
        "### Useing Google drive \n",
        "\n",
        "mounted to support larger data workloads with Colab"
      ]
    },
    {
      "cell_type": "code",
      "metadata": {
        "colab": {
          "base_uri": "https://localhost:8080/"
        },
        "id": "RL16ciM6jAP4",
        "outputId": "90ca7e8d-d59b-45cb-fd58-ab5b13917d33"
      },
      "source": [
        "drive.mount('/content/drive/')\n",
        "\n",
        "#drive.flush_and_unmount()"
      ],
      "execution_count": null,
      "outputs": [
        {
          "output_type": "stream",
          "name": "stdout",
          "text": [
            "Drive already mounted at /content/drive/; to attempt to forcibly remount, call drive.mount(\"/content/drive/\", force_remount=True).\n"
          ]
        }
      ]
    },
    {
      "cell_type": "markdown",
      "metadata": {
        "id": "ASWR05aH1pAq"
      },
      "source": [
        "# Get Spotify Data \n",
        "\n",
        "Download Spotify Music Previews as Sample DataSet(s) with play length of 30sec\n",
        "\n",
        "Info: https://developer.spotify.com/documentation/web-api/"
      ]
    },
    {
      "cell_type": "code",
      "source": [
        "# Generate the AccessToken for OAuth Rest API connections for this notebook\n",
        "AccessToken = GetAPIToken(ClientID, SecretID)"
      ],
      "metadata": {
        "id": "Sn01eWxa7f3y"
      },
      "execution_count": null,
      "outputs": []
    },
    {
      "cell_type": "code",
      "metadata": {
        "id": "6SYhw3dlRjTb",
        "colab": {
          "base_uri": "https://localhost:8080/"
        },
        "outputId": "e0d0e968-edcc-4ed5-c8b9-565450b75558"
      },
      "source": [
        "df = GetTracks(GenreFilePath\n",
        "             , AccessToken \n",
        "             , NumberOfGenres  \n",
        "             , NumberOfSongs                \n",
        "             , Randomize\n",
        "             , RandomSeed)"
      ],
      "execution_count": null,
      "outputs": [
        {
          "output_type": "stream",
          "name": "stdout",
          "text": [
            "Progress: [\u001b[1;30;43m░░░░░░░░░░░░░░░░░░░░\u001b[0m] 100.0% (2000 of 2000)\n",
            "Extracting... \n",
            "       Genre: modern rock\n",
            "   TrackName: Mind Over Matter (Reprise)\n",
            "\n",
            "        Time Running : 00:01:05.04\n",
            " Time Remaining Est. : -1:59:-0.03\n"
          ]
        }
      ]
    },
    {
      "cell_type": "code",
      "metadata": {
        "colab": {
          "base_uri": "https://localhost:8080/"
        },
        "id": "BvyBFWIGj2Mv",
        "outputId": "cd50bc4c-6b3f-4ce8-fe24-5b8661b14043"
      },
      "source": [
        "# Check we have unique values and they equal NumberOfGenres\n",
        "a = df[('Genre')].unique()\n",
        "b = len(a)\n",
        "print(a)\n",
        "print(b)\n",
        "assert b == NumberOfGenres"
      ],
      "execution_count": null,
      "outputs": [
        {
          "output_type": "stream",
          "name": "stdout",
          "text": [
            "['pop' 'dance pop' 'rap' 'rock' 'latin' 'pop rap' 'hip hop' 'trap latino'\n",
            " 'trap' 'modern rock']\n",
            "10\n"
          ]
        }
      ]
    },
    {
      "cell_type": "code",
      "metadata": {
        "colab": {
          "base_uri": "https://localhost:8080/",
          "height": 236
        },
        "id": "oo5V43tlww2C",
        "outputId": "6615dfad-d5b2-4e3f-cbfd-87b972ad2161"
      },
      "source": [
        "# Check we have all song count for each genre NumberOfSongs\n",
        "display(df.groupby('Genre').size())\n",
        "\n",
        "for s in df.groupby('Genre').size():\n",
        "  assert s == NumberOfSongs"
      ],
      "execution_count": null,
      "outputs": [
        {
          "output_type": "display_data",
          "data": {
            "text/plain": [
              "Genre\n",
              "dance pop      200\n",
              "hip hop        200\n",
              "latin          200\n",
              "modern rock    200\n",
              "pop            200\n",
              "pop rap        200\n",
              "rap            200\n",
              "rock           200\n",
              "trap           200\n",
              "trap latino    200\n",
              "dtype: int64"
            ]
          },
          "metadata": {}
        }
      ]
    },
    {
      "cell_type": "code",
      "metadata": {
        "id": "WOO4SMP3Rf9D",
        "colab": {
          "base_uri": "https://localhost:8080/"
        },
        "outputId": "984b9583-a800-482e-d902-b4562d57b242"
      },
      "source": [
        "# Download Spotify Preview Samples for Genre's and Songs\n",
        "downloadRawData(df)"
      ],
      "execution_count": null,
      "outputs": [
        {
          "output_type": "stream",
          "name": "stdout",
          "text": [
            "Progress: [\u001b[1;30;43m░░░░░░░░░░░░░░░░░░░░\u001b[0m] 100.0% (2000 of 2000)\n",
            "Presisting to... \n",
            "    Path: /content/drive/MyDrive/W207/Data/Spotify/10-200-False-6\n",
            "   Genre: modern rock\n",
            " TrackID: 77KnJc8o5G1eKVwX5ywMeZ\n",
            "     Url: https://p.scdn.co/mp3-preview/b0f1a450736ed261fab3fd1f7d7aabd06c3b3f25?cid=fa54a9c868174f4e83b2616cc27443db\n",
            "\n",
            "        Time Running : 00:03:55.06\n",
            " Time Remaining Est. : -1:59:-0.12\n"
          ]
        }
      ]
    },
    {
      "cell_type": "code",
      "source": [
        "# Getting Features for KNN from Spotify\n",
        "df2 = GetFeatures(SpotifyDataPath\n",
        "                , AccessToken\n",
        "                , NumberOfGenres\n",
        "                , NumberOfSongs\n",
        "                , RandomSeed)"
      ],
      "metadata": {
        "colab": {
          "base_uri": "https://localhost:8080/"
        },
        "id": "Mv_eLyt551aI",
        "outputId": "66637451-ed3d-46ac-fc87-beb4d3c2cb49"
      },
      "execution_count": null,
      "outputs": [
        {
          "output_type": "stream",
          "name": "stdout",
          "text": [
            "Progress: [\u001b[1;30;43m░░░░░░░░░░░░░░░░░░░░\u001b[0m] 100.0% (1992 of 1992)\n",
            "Extracting... \n",
            "       Genre: modern rock\n",
            "   TrackName: 77KnJc8o5G1eKVwX5ywMeZ\n",
            "\n",
            "        Time Running : 00:03:25.92\n",
            " Time Remaining Est. : -1:59:-0.10\n"
          ]
        }
      ]
    },
    {
      "cell_type": "code",
      "source": [
        "df2.to_csv(SpotifyDataPath + '/AudioFeatures.csv')"
      ],
      "metadata": {
        "id": "WFeWbkOlCSTC"
      },
      "execution_count": null,
      "outputs": []
    },
    {
      "cell_type": "code",
      "source": [
        "data_spotify = pd.read_csv(SpotifyDataPath + '/AudioFeatures.csv')\n",
        "data_spotify"
      ],
      "metadata": {
        "colab": {
          "base_uri": "https://localhost:8080/",
          "height": 424
        },
        "id": "GhV4NSE4Dcc7",
        "outputId": "91ba353c-e518-433e-8065-db590705ed82"
      },
      "execution_count": null,
      "outputs": [
        {
          "output_type": "execute_result",
          "data": {
            "text/html": [
              "<div>\n",
              "<style scoped>\n",
              "    .dataframe tbody tr th:only-of-type {\n",
              "        vertical-align: middle;\n",
              "    }\n",
              "\n",
              "    .dataframe tbody tr th {\n",
              "        vertical-align: top;\n",
              "    }\n",
              "\n",
              "    .dataframe thead th {\n",
              "        text-align: right;\n",
              "    }\n",
              "</style>\n",
              "<table border=\"1\" class=\"dataframe\">\n",
              "  <thead>\n",
              "    <tr style=\"text-align: right;\">\n",
              "      <th></th>\n",
              "      <th>Unnamed: 0</th>\n",
              "      <th>Genre</th>\n",
              "      <th>TrackID</th>\n",
              "      <th>Danceability</th>\n",
              "      <th>Energy</th>\n",
              "      <th>Valence</th>\n",
              "    </tr>\n",
              "  </thead>\n",
              "  <tbody>\n",
              "    <tr>\n",
              "      <th>0</th>\n",
              "      <td>0</td>\n",
              "      <td>pop</td>\n",
              "      <td>1058fW9H3fZA6QjYCdOBad</td>\n",
              "      <td>0.666</td>\n",
              "      <td>0.796</td>\n",
              "      <td>0.610</td>\n",
              "    </tr>\n",
              "    <tr>\n",
              "      <th>1</th>\n",
              "      <td>1</td>\n",
              "      <td>pop</td>\n",
              "      <td>65Xycqq3KSaLmEIbWszegR</td>\n",
              "      <td>0.702</td>\n",
              "      <td>0.664</td>\n",
              "      <td>0.570</td>\n",
              "    </tr>\n",
              "    <tr>\n",
              "      <th>2</th>\n",
              "      <td>2</td>\n",
              "      <td>pop</td>\n",
              "      <td>3G0T9gfKq0Wo6ofdWAOEa5</td>\n",
              "      <td>0.622</td>\n",
              "      <td>0.618</td>\n",
              "      <td>0.477</td>\n",
              "    </tr>\n",
              "    <tr>\n",
              "      <th>3</th>\n",
              "      <td>3</td>\n",
              "      <td>pop</td>\n",
              "      <td>2nZq5WQOW4FEPxCVTdNGfB</td>\n",
              "      <td>0.528</td>\n",
              "      <td>0.343</td>\n",
              "      <td>0.342</td>\n",
              "    </tr>\n",
              "    <tr>\n",
              "      <th>4</th>\n",
              "      <td>4</td>\n",
              "      <td>pop</td>\n",
              "      <td>1WnKdiEPEvd1Meo3gUipPe</td>\n",
              "      <td>0.594</td>\n",
              "      <td>0.355</td>\n",
              "      <td>0.628</td>\n",
              "    </tr>\n",
              "    <tr>\n",
              "      <th>...</th>\n",
              "      <td>...</td>\n",
              "      <td>...</td>\n",
              "      <td>...</td>\n",
              "      <td>...</td>\n",
              "      <td>...</td>\n",
              "      <td>...</td>\n",
              "    </tr>\n",
              "    <tr>\n",
              "      <th>1987</th>\n",
              "      <td>1987</td>\n",
              "      <td>modern rock</td>\n",
              "      <td>1qMKtlvhNujDZ3G4vdFSBF</td>\n",
              "      <td>0.533</td>\n",
              "      <td>0.500</td>\n",
              "      <td>0.335</td>\n",
              "    </tr>\n",
              "    <tr>\n",
              "      <th>1988</th>\n",
              "      <td>1988</td>\n",
              "      <td>modern rock</td>\n",
              "      <td>3EYx0Sw78e5ByIx0HmsJTM</td>\n",
              "      <td>0.551</td>\n",
              "      <td>0.715</td>\n",
              "      <td>0.345</td>\n",
              "    </tr>\n",
              "    <tr>\n",
              "      <th>1989</th>\n",
              "      <td>1989</td>\n",
              "      <td>modern rock</td>\n",
              "      <td>4ozBdncjTFpDqzpREZ4LR4</td>\n",
              "      <td>0.486</td>\n",
              "      <td>0.900</td>\n",
              "      <td>0.533</td>\n",
              "    </tr>\n",
              "    <tr>\n",
              "      <th>1990</th>\n",
              "      <td>1990</td>\n",
              "      <td>modern rock</td>\n",
              "      <td>5CN4Al76NntcR1vj7tGO2V</td>\n",
              "      <td>0.369</td>\n",
              "      <td>0.879</td>\n",
              "      <td>0.326</td>\n",
              "    </tr>\n",
              "    <tr>\n",
              "      <th>1991</th>\n",
              "      <td>1991</td>\n",
              "      <td>modern rock</td>\n",
              "      <td>77KnJc8o5G1eKVwX5ywMeZ</td>\n",
              "      <td>0.393</td>\n",
              "      <td>0.487</td>\n",
              "      <td>0.300</td>\n",
              "    </tr>\n",
              "  </tbody>\n",
              "</table>\n",
              "<p>1992 rows × 6 columns</p>\n",
              "</div>"
            ],
            "text/plain": [
              "      Unnamed: 0        Genre  ... Energy  Valence\n",
              "0              0          pop  ...  0.796    0.610\n",
              "1              1          pop  ...  0.664    0.570\n",
              "2              2          pop  ...  0.618    0.477\n",
              "3              3          pop  ...  0.343    0.342\n",
              "4              4          pop  ...  0.355    0.628\n",
              "...          ...          ...  ...    ...      ...\n",
              "1987        1987  modern rock  ...  0.500    0.335\n",
              "1988        1988  modern rock  ...  0.715    0.345\n",
              "1989        1989  modern rock  ...  0.900    0.533\n",
              "1990        1990  modern rock  ...  0.879    0.326\n",
              "1991        1991  modern rock  ...  0.487    0.300\n",
              "\n",
              "[1992 rows x 6 columns]"
            ]
          },
          "metadata": {},
          "execution_count": 76
        }
      ]
    },
    {
      "cell_type": "markdown",
      "metadata": {
        "id": "BBWKCK7T_ek1"
      },
      "source": [
        "# Get GTZAN Genre DataSet\n",
        "\n",
        "Source: http://opihi.cs.uvic.ca/sound/genres.tar\n",
        "\n",
        "Info: http://marsyas.info/downloads/datasets.html\n"
      ]
    },
    {
      "cell_type": "code",
      "metadata": {
        "id": "gzAg6eA4_oed"
      },
      "source": [
        "# Avg execution time: Expect 10|20 mins for this one, as the source server and colab are both slow to send and recieve.\n",
        "url = 'http://opihi.cs.uvic.ca/sound/genres.tar'\n",
        "filename = RootPath + \"/Data/GTZAN.tar\"\n",
        "\n",
        "with open(filename, 'wb') as file:\n",
        "    file.write(requests.get(url).content) "
      ],
      "execution_count": null,
      "outputs": []
    },
    {
      "cell_type": "code",
      "metadata": {
        "id": "IXItKq86L3e3"
      },
      "source": [
        "# Avg execution time: Expect 1|2 mins for this one, as the source server and colab are both slow to send and recieve.\n",
        "# open file\n",
        "file = tarfile.open(filename)\n",
        "\n",
        "# extracting file\n",
        "file.extractall(GTZANDataPath)  \n",
        "file.close()"
      ],
      "execution_count": null,
      "outputs": []
    }
  ]
}