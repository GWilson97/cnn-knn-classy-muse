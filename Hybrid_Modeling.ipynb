{
  "nbformat": 4,
  "nbformat_minor": 0,
  "metadata": {
    "colab": {
      "name": "Hybrid Modeling.ipynb",
      "provenance": [],
      "collapsed_sections": [
        "5UvK4QzSGbwG",
        "762VIBOUQ3kC",
        "7AKl1VbyMEtq"
      ]
    },
    "kernelspec": {
      "name": "python3",
      "display_name": "Python 3"
    },
    "language_info": {
      "name": "python"
    }
  },
  "cells": [
    {
      "cell_type": "markdown",
      "metadata": {
        "id": "vklgLG41pR_9"
      },
      "source": [
        "# Data Science Life Cycle and Process\n",
        "\n",
        "Step 1: Data Engineering \n",
        "\n",
        "- Get Data.ipynb\n",
        ">\n",
        "> This notebook is designed to be the start of the data ingestion pipeline \n",
        "> for getting the Raw Data from Sources, GTZAN and Spotify\n",
        "\n",
        "Step 2: Exploratory Data Analysis \n",
        "\n",
        "- EDA.ipynb\n",
        ">\n",
        "> This notebook is designed to be the EDA for audio feature extraction using Librosa. \n",
        "> We will explore things like Mel-Frequency Cepstral Coefficients and Canstant-Q Transform and Chromagram with Pitch Classes\n",
        "\n",
        "Step 3: Modeling, Validation, and Testing\n",
        "\n",
        "CNN - Convolution Neural Network    \n",
        "KNN - K Nearst Neighbor \n",
        "- Modeling.ipynb\n",
        ">\n",
        "> This notebook is designed to be the implementation of KNN & CNN from Keras Tensorflow and can be run on either GTZAN(CNN Only) or Spotifiy datasets.\n",
        ">      \n",
        "\n"
      ]
    },
    {
      "cell_type": "markdown",
      "source": [
        "# Installs"
      ],
      "metadata": {
        "id": "Ztq1IslO4kFm"
      }
    },
    {
      "cell_type": "code",
      "source": [
        "# needed for librosa extract of mp3 formats\n",
        "!pip install -q -U keras-tuner ffmpeg librosa"
      ],
      "metadata": {
        "colab": {
          "base_uri": "https://localhost:8080/"
        },
        "id": "L0o_h-X-4jK-",
        "outputId": "b85aa669-8072-4615-ae62-904e27b4933b"
      },
      "execution_count": null,
      "outputs": [
        {
          "output_type": "stream",
          "name": "stdout",
          "text": [
            "\u001b[?25l\r\u001b[K     |███▍                            | 10 kB 20.6 MB/s eta 0:00:01\r\u001b[K     |██████▊                         | 20 kB 26.6 MB/s eta 0:00:01\r\u001b[K     |██████████                      | 30 kB 11.8 MB/s eta 0:00:01\r\u001b[K     |█████████████▍                  | 40 kB 9.4 MB/s eta 0:00:01\r\u001b[K     |████████████████▊               | 51 kB 5.0 MB/s eta 0:00:01\r\u001b[K     |████████████████████            | 61 kB 4.9 MB/s eta 0:00:01\r\u001b[K     |███████████████████████▍        | 71 kB 5.6 MB/s eta 0:00:01\r\u001b[K     |██████████████████████████▊     | 81 kB 6.2 MB/s eta 0:00:01\r\u001b[K     |██████████████████████████████  | 92 kB 6.4 MB/s eta 0:00:01\r\u001b[K     |████████████████████████████████| 98 kB 3.1 MB/s \n",
            "\u001b[?25h"
          ]
        }
      ]
    },
    {
      "cell_type": "markdown",
      "metadata": {
        "id": "wDe-8He7EyN4"
      },
      "source": [
        "# Imports"
      ]
    },
    {
      "cell_type": "code",
      "metadata": {
        "id": "9kyxMGwgE03c"
      },
      "source": [
        "from sklearn.model_selection import train_test_split, learning_curve\n",
        "from sklearn.neighbors import KNeighborsClassifier\n",
        "from sklearn.metrics import classification_report\n",
        "from sklearn.metrics import confusion_matrix\n",
        "from IPython.display import clear_output\n",
        "from google.colab import drive\n",
        "from kerastuner import RandomSearch\n",
        "import tensorflow.keras as keras\n",
        "import matplotlib.pyplot as plt\n",
        "import random, math , os, time\n",
        "import keras_tuner as kt\n",
        "import librosa, ffmpeg\n",
        "import pandas as pd\n",
        "import numpy as np\n",
        "import warnings\n",
        "warnings.filterwarnings(\"ignore\")"
      ],
      "execution_count": null,
      "outputs": []
    },
    {
      "cell_type": "markdown",
      "metadata": {
        "id": "4SUf_HmKGYnD"
      },
      "source": [
        "# Variables"
      ]
    },
    {
      "cell_type": "code",
      "metadata": {
        "id": "2iOxB5LdFKa4"
      },
      "source": [
        "# Use the data set you prefer for the run of this experiment\n",
        "DATASET_PATH = \"/content/drive/MyDrive/W207/Data/Spotify/10-200-False-6\""
      ],
      "execution_count": null,
      "outputs": []
    },
    {
      "cell_type": "markdown",
      "metadata": {
        "id": "5UvK4QzSGbwG"
      },
      "source": [
        "# Mount Google Drive"
      ]
    },
    {
      "cell_type": "code",
      "metadata": {
        "colab": {
          "base_uri": "https://localhost:8080/"
        },
        "id": "1h1pGSUmTLKX",
        "outputId": "8ef1d6b8-2df3-4d31-cc7c-2716e6ee36cc"
      },
      "source": [
        "drive.mount('/content/drive')"
      ],
      "execution_count": null,
      "outputs": [
        {
          "output_type": "stream",
          "name": "stdout",
          "text": [
            "Mounted at /content/drive\n"
          ]
        }
      ]
    },
    {
      "cell_type": "markdown",
      "metadata": {
        "id": "nbBBBtJNFfbG"
      },
      "source": [
        "# Methods"
      ]
    },
    {
      "cell_type": "markdown",
      "source": [
        "## Sci-Kit Learn Extensions"
      ],
      "metadata": {
        "id": "762VIBOUQ3kC"
      }
    },
    {
      "cell_type": "code",
      "source": [
        "# https://scikit-learn.org/stable/auto_examples/model_selection/plot_learning_curve.html\n",
        "def plot_learning_curve(\n",
        "    estimator,\n",
        "    title,\n",
        "    X,\n",
        "    y,\n",
        "    axes=None,\n",
        "    ylim=None,\n",
        "    cv=None,\n",
        "    n_jobs=None,\n",
        "    train_sizes=np.linspace(0.1, 1.0, 5),\n",
        "):\n",
        "    \"\"\"\n",
        "    Generate 3 plots: the test and training learning curve, the training\n",
        "    samples vs fit times curve, the fit times vs score curve.\n",
        "\n",
        "    Parameters\n",
        "    ----------\n",
        "    estimator : estimator instance\n",
        "        An estimator instance implementing `fit` and `predict` methods which\n",
        "        will be cloned for each validation.\n",
        "\n",
        "    title : str\n",
        "        Title for the chart.\n",
        "\n",
        "    X : array-like of shape (n_samples, n_features)\n",
        "        Training vector, where ``n_samples`` is the number of samples and\n",
        "        ``n_features`` is the number of features.\n",
        "\n",
        "    y : array-like of shape (n_samples) or (n_samples, n_features)\n",
        "        Target relative to ``X`` for classification or regression;\n",
        "        None for unsupervised learning.\n",
        "\n",
        "    axes : array-like of shape (3,), default=None\n",
        "        Axes to use for plotting the curves.\n",
        "\n",
        "    ylim : tuple of shape (2,), default=None\n",
        "        Defines minimum and maximum y-values plotted, e.g. (ymin, ymax).\n",
        "\n",
        "    cv : int, cross-validation generator or an iterable, default=None\n",
        "        Determines the cross-validation splitting strategy.\n",
        "        Possible inputs for cv are:\n",
        "\n",
        "          - None, to use the default 5-fold cross-validation,\n",
        "          - integer, to specify the number of folds.\n",
        "          - :term:`CV splitter`,\n",
        "          - An iterable yielding (train, test) splits as arrays of indices.\n",
        "\n",
        "        For integer/None inputs, if ``y`` is binary or multiclass,\n",
        "        :class:`StratifiedKFold` used. If the estimator is not a classifier\n",
        "        or if ``y`` is neither binary nor multiclass, :class:`KFold` is used.\n",
        "\n",
        "        Refer :ref:`User Guide <cross_validation>` for the various\n",
        "        cross-validators that can be used here.\n",
        "\n",
        "    n_jobs : int or None, default=None\n",
        "        Number of jobs to run in parallel.\n",
        "        ``None`` means 1 unless in a :obj:`joblib.parallel_backend` context.\n",
        "        ``-1`` means using all processors. See :term:`Glossary <n_jobs>`\n",
        "        for more details.\n",
        "\n",
        "    train_sizes : array-like of shape (n_ticks,)\n",
        "        Relative or absolute numbers of training examples that will be used to\n",
        "        generate the learning curve. If the ``dtype`` is float, it is regarded\n",
        "        as a fraction of the maximum size of the training set (that is\n",
        "        determined by the selected validation method), i.e. it has to be within\n",
        "        (0, 1]. Otherwise it is interpreted as absolute sizes of the training\n",
        "        sets. Note that for classification the number of samples usually have\n",
        "        to be big enough to contain at least one sample from each class.\n",
        "        (default: np.linspace(0.1, 1.0, 5))\n",
        "    \"\"\"\n",
        "    if axes is None:\n",
        "        _, axes = plt.subplots(1, 3, figsize=(20, 5))\n",
        "\n",
        "    axes[0].set_title(title)\n",
        "    if ylim is not None:\n",
        "        axes[0].set_ylim(*ylim)\n",
        "    axes[0].set_xlabel(\"Training examples\")\n",
        "    axes[0].set_ylabel(\"Score\")\n",
        "\n",
        "    train_sizes, train_scores, test_scores, fit_times, _ = learning_curve(\n",
        "        estimator,\n",
        "        X,\n",
        "        y,\n",
        "        cv=cv,\n",
        "        n_jobs=n_jobs,\n",
        "        train_sizes=train_sizes,\n",
        "        return_times=True,\n",
        "    )\n",
        "    train_scores_mean = np.mean(train_scores, axis=1)\n",
        "    train_scores_std = np.std(train_scores, axis=1)\n",
        "    test_scores_mean = np.mean(test_scores, axis=1)\n",
        "    test_scores_std = np.std(test_scores, axis=1)\n",
        "    fit_times_mean = np.mean(fit_times, axis=1)\n",
        "    fit_times_std = np.std(fit_times, axis=1)\n",
        "\n",
        "    # Plot learning curve\n",
        "    axes[0].grid()\n",
        "    axes[0].fill_between(\n",
        "        train_sizes,\n",
        "        train_scores_mean - train_scores_std,\n",
        "        train_scores_mean + train_scores_std,\n",
        "        alpha=0.1,\n",
        "        color=\"r\",\n",
        "    )\n",
        "    axes[0].fill_between(\n",
        "        train_sizes,\n",
        "        test_scores_mean - test_scores_std,\n",
        "        test_scores_mean + test_scores_std,\n",
        "        alpha=0.1,\n",
        "        color=\"g\",\n",
        "    )\n",
        "    axes[0].plot(\n",
        "        train_sizes, train_scores_mean, \"o-\", color=\"r\", label=\"Training score\"\n",
        "    )\n",
        "    axes[0].plot(\n",
        "        train_sizes, test_scores_mean, \"o-\", color=\"g\", label=\"Cross-validation score\"\n",
        "    )\n",
        "    axes[0].legend(loc=\"best\")\n",
        "\n",
        "    # Plot n_samples vs fit_times\n",
        "    axes[1].grid()\n",
        "    axes[1].plot(train_sizes, fit_times_mean, \"o-\")\n",
        "    axes[1].fill_between(\n",
        "        train_sizes,\n",
        "        fit_times_mean - fit_times_std,\n",
        "        fit_times_mean + fit_times_std,\n",
        "        alpha=0.1,\n",
        "    )\n",
        "    axes[1].set_xlabel(\"Training examples\")\n",
        "    axes[1].set_ylabel(\"fit_times\")\n",
        "    axes[1].set_title(\"Scalability of the model\")\n",
        "\n",
        "    # Plot fit_time vs score\n",
        "    axes[2].grid()\n",
        "    axes[2].plot(fit_times_mean, test_scores_mean, \"o-\")\n",
        "    axes[2].fill_between(\n",
        "        fit_times_mean,\n",
        "        test_scores_mean - test_scores_std,\n",
        "        test_scores_mean + test_scores_std,\n",
        "        alpha=0.1,\n",
        "    )\n",
        "    axes[2].set_xlabel(\"fit_times\")\n",
        "    axes[2].set_ylabel(\"Score\")\n",
        "    axes[2].set_title(\"Performance of the model\")\n",
        "\n",
        "    return plt"
      ],
      "metadata": {
        "id": "W4G9MwBXQ9Pt"
      },
      "execution_count": null,
      "outputs": []
    },
    {
      "cell_type": "markdown",
      "source": [
        "## Define helper methods"
      ],
      "metadata": {
        "id": "7AKl1VbyMEtq"
      }
    },
    {
      "cell_type": "code",
      "metadata": {
        "id": "7__V2QdhumT7"
      },
      "source": [
        "# Method for displaying progress for long running processes\n",
        "def update_progress(current, total, msg = '', bar_length = 20):\n",
        "  '''\n",
        "    Controls the output of a Jupyter cell for progress and message display without taking up to much notebook space\n",
        "\n",
        "          Parameters:\n",
        "                  current (int): An integer\n",
        "                  Defines the current iteration on the progress\n",
        "                      \n",
        "                  total (int): An integer\n",
        "                  Defines the number of elements for total progress\n",
        "\n",
        "                  msg (str): A string\n",
        "                  The Message to be displayed\n",
        "\n",
        "                  bar_length (int): An integer \n",
        "                  Determines the width of the progress bar by number of ticks to display\n",
        "\n",
        "          Returns:\n",
        "                  Controled output for progress information in a Jupyter Notebook, best used for long running processes \n",
        "                  that don't require presistance of the output for record. \n",
        "  '''\n",
        "  \n",
        "  # Defines the style to displace on the progress blocks\n",
        "  style = lambda x: \"\\x1b[1;30;43m\" + str(x) + \"\\x1b[0m\"\n",
        "\n",
        "  # Determines teh progress ratio\n",
        "  progress = current / total\n",
        "\n",
        "  #\n",
        "  if isinstance(progress, int): progress = float(progress)\n",
        "  if not isinstance(progress, float) or progress < 0: progress = 0\n",
        "  if progress >= 1: progress = 1\n",
        "\n",
        "  block = int(round(bar_length * progress))\n",
        "\n",
        "  # Using imports (from IPython.display import clear_output)\n",
        "  clear_output(wait = True)\n",
        "\n",
        "  text = \"Progress: [{0}] {1:.1f}% ({2} of {3})\".format( style(\"░\" * block) + \"-\" * (bar_length - block), progress * 100, current, total)\n",
        "  \n",
        "  # Display the text to output\n",
        "  print(text)\n",
        "  # Display further message context\n",
        "  if msg != '': \n",
        "    print(msg)"
      ],
      "execution_count": null,
      "outputs": []
    },
    {
      "cell_type": "code",
      "source": [
        "def laptime(stime, total, current):\n",
        "  running = (time.time() - stime)\n",
        "  hrs, r = divmod(running, 3600)\n",
        "  mins, secs = divmod(r, 60)\n",
        "\n",
        "  remaining = (running/(current+1)) * (total - (current+1))\n",
        "  hours, rem = divmod(remaining, 3600)\n",
        "  minutes, seconds = divmod(rem, 60)\n",
        "\n",
        "  running = {\"hours\":hrs,\"remainder\":r,\"minutes\":mins,\"seconds\":secs}\n",
        "  remaining = {\"hours\":hours,\"remainder\":rem,\"minutes\":minutes,\"seconds\":remaining}\n",
        "    \n",
        "  return {\"Running\":running, \"Remaining\":remaining}"
      ],
      "metadata": {
        "id": "y5j3K-BZUuN8"
      },
      "execution_count": null,
      "outputs": []
    },
    {
      "cell_type": "markdown",
      "source": [
        "## Audio Feature Extraction"
      ],
      "metadata": {
        "id": "16tXf-35aG7b"
      }
    },
    {
      "cell_type": "code",
      "metadata": {
        "id": "hR80A2xsTM1q"
      },
      "source": [
        "def extract(ds_path, segments=10):\n",
        "    # dictionary to result lists\n",
        "    data = {\n",
        "        \"genre\": [],\n",
        "        \"labels\": [],\n",
        "        \"feature\": []\n",
        "    }\n",
        "\n",
        "    samples_per_segment = int(22050 * 30 / segments)\n",
        "    vectors_per_segment = math.ceil(samples_per_segment / 512)\n",
        "    \n",
        "    # Exclude file and get folders only for top level\n",
        "    directories = [ l for l in os.listdir(ds_path) if os.path.isdir(os.path.join(ds_path, l))]\n",
        "    fcount = len([f for file in [files for _, _, files in os.walk(ds_path)] for f in file if '.wav' in f or '.mp3' in f])\n",
        "    gcount = len([d for dir in [dnames for _, dnames, _ in os.walk(ds_path)] for d in dir])\n",
        "    stime = time.time()\n",
        "\n",
        "    # loop through data source to process each audio file\n",
        "    for i, (dpath, dnames, fnames) in enumerate(os.walk(ds_path)):\n",
        "        \n",
        "        if dpath is not ds_path:\n",
        "\n",
        "            genre = dpath.split(\"/\")[-1]\n",
        "            data[\"genre\"].append(genre)\n",
        "\n",
        "            # loop through each audio file to process thorugh librosa\n",
        "            for idx, f in enumerate(fnames):\n",
        "\n",
        "\t\t            # load audio data\n",
        "                audio, sr = librosa.load(os.path.join(dpath, f))\n",
        "\n",
        "                # loop through each segment to process by segments\n",
        "                for d in range(segments):\n",
        "\n",
        "                    # calculate start and finish sample for current segment\n",
        "                    initial = samples_per_segment * d\n",
        "                    final = initial + samples_per_segment\n",
        "\n",
        "                    try:\n",
        "                      # extract\n",
        "                      feature = librosa.feature.mfcc(audio[initial:final], sr=sr, n_mfcc=13, n_fft=2048,  hop_length=512)\n",
        "                    except:\n",
        "                      break # File missing data from Spotify or corrupt, skip to next\n",
        "                      \n",
        "                      #tempo, beats = librosa.beat.beat_track(feature, sr=sr)\n",
        "                      #feature = librosa.feature.chroma_cqt(audio[start:finish], sr=sr, hop_length=512, fmin=librosa.note_to_hz('C2'))\n",
        "                      #feature = librosa.amplitude_to_db(feature) # log transform to reduce noise\n",
        "                    feature = feature.T\n",
        "\n",
        "                    # store only features with expected number of vectors\n",
        "                    if len(feature) == vectors_per_segment:\n",
        "                        data[\"feature\"].append(feature.tolist())\n",
        "                        data[\"labels\"].append(i-1)\n",
        "\n",
        "                    lt = laptime(stime, fcount, (idx + 1) + ((i - 1) * (fcount / gcount)))\n",
        "                    msg = \"Processing audio files for : {}\".format(genre) \\\n",
        "                        + '\\n' + f \\\n",
        "                        + '\\n        Time Running : ' + \"{:0>2}:{:0>2}:{:05.2f}\".format(int(lt['Running']['hours']),int(lt['Running']['minutes']),lt['Running']['seconds']) \\\n",
        "                        + '\\n Time Remaining Est. : ' + \"{:0>2}:{:0>2}:{:05.2f}\".format(int(lt['Remaining']['hours']),int(lt['Remaining']['minutes']),lt['Remaining']['seconds']) \n",
        "\n",
        "                    update_progress((idx + 1) + ((i - 1) * (fcount / gcount)), fcount, msg )                    \n",
        "\n",
        "    return data"
      ],
      "execution_count": null,
      "outputs": []
    },
    {
      "cell_type": "markdown",
      "metadata": {
        "id": "eaQo56SFTOyv"
      },
      "source": [
        "#Prepare the data"
      ]
    },
    {
      "cell_type": "code",
      "metadata": {
        "colab": {
          "base_uri": "https://localhost:8080/"
        },
        "id": "2Hfy081AFXFJ",
        "outputId": "40696e71-e902-4aea-893e-6ec714f31ee0"
      },
      "source": [
        "data = extract(DATASET_PATH)"
      ],
      "execution_count": null,
      "outputs": [
        {
          "output_type": "stream",
          "name": "stdout",
          "text": [
            "Progress: [\u001b[1;30;43m░░░░░░░░░░░░░░░░░░░░\u001b[0m] 100.0% (1991.8 of 1992)\n",
            "Processing audio files for : modern rock\n",
            "77KnJc8o5G1eKVwX5ywMeZ.mp3\n",
            "        Time Running : 01:10:42.31\n",
            " Time Remaining Est. : -1:59:-1.70\n"
          ]
        }
      ]
    },
    {
      "cell_type": "code",
      "source": [
        "genres = np.array(data[\"genre\"])\n",
        "X = np.array(data[\"feature\"])\n",
        "y = np.array(data[\"labels\"])\n",
        "\n",
        "# Split data sets\n",
        "X_train, X_test, y_train, y_test = train_test_split(X, y, test_size=.15)\n",
        "X_train, X_validate, y_train, y_validate = train_test_split(X_train, y_train, test_size=.2)\n",
        "\n",
        "# Add an axis\n",
        "X_train = X_train[..., np.newaxis]\n",
        "X_validate = X_validate[..., np.newaxis]\n",
        "X_test = X_test[..., np.newaxis]"
      ],
      "metadata": {
        "id": "QjL3KTxKG_gt"
      },
      "execution_count": null,
      "outputs": []
    },
    {
      "cell_type": "markdown",
      "metadata": {
        "id": "IyQRHOu0GHMt"
      },
      "source": [
        "# Create and Train the Model"
      ]
    },
    {
      "cell_type": "code",
      "metadata": {
        "id": "3EjbYiKeTark",
        "colab": {
          "base_uri": "https://localhost:8080/"
        },
        "outputId": "ba291231-f9f7-4ee8-ca2a-4fc8f20e8611"
      },
      "source": [
        "# build network topology\n",
        "model = keras.Sequential()\n",
        "\n",
        "# 1st layer\n",
        "model.add(keras.layers.Conv2D(32, (3, 3), activation='relu', input_shape=(X_train.shape[1], X_train.shape[2], 1), name='Conv2d_1'))\n",
        "model.add(keras.layers.MaxPooling2D((3, 3), strides=(2, 2), padding='same', name='MaxPooling2D_1'))\n",
        "model.add(keras.layers.BatchNormalization(name='BatchNormalization_1'))\n",
        "model.add(keras.layers.Dropout(0.1, name='Dropout_1')) # avoid overfitting\n",
        "\n",
        "# 2nd layer\n",
        "model.add(keras.layers.Conv2D(32, (3, 3), activation='relu', name='Conv2d_2'))\n",
        "model.add(keras.layers.MaxPooling2D((3, 3), strides=(2, 2), padding='same', name='MaxPooling2D_2'))\n",
        "model.add(keras.layers.BatchNormalization(name='BatchNormalization_2'))\n",
        "model.add(keras.layers.Dropout(0.1, name='Dropout_2')) # avoid overfitting\n",
        "\n",
        "# 3rd layer\n",
        "model.add(keras.layers.Conv2D(64, (2, 2), activation='relu', name='Conv2d_3'))\n",
        "model.add(keras.layers.MaxPooling2D((2, 2), strides=(2, 2), padding='same', name='MaxPooling2D_3'))\n",
        "model.add(keras.layers.BatchNormalization(name='BatchNormalization_3'))\n",
        "model.add(keras.layers.Dropout(0.1, name='Dropout_3')) # avoid overfitting\n",
        "\n",
        "# flatten output and feed it into dense layer\n",
        "model.add(keras.layers.Flatten(name='Flatten'))\n",
        "model.add(keras.layers.Dense(128, activation='relu', name='Dense_1'))\n",
        "model.add(keras.layers.Dropout(0.1, name='Dropout_4')) # avoid overfitting\n",
        "\n",
        "# output layer\n",
        "model.add(keras.layers.Dense(10, activation='softmax', name='Dense_2'))\n",
        "model.summary()"
      ],
      "execution_count": null,
      "outputs": [
        {
          "output_type": "stream",
          "name": "stdout",
          "text": [
            "Model: \"sequential_21\"\n",
            "_________________________________________________________________\n",
            " Layer (type)                Output Shape              Param #   \n",
            "=================================================================\n",
            " Conv2d_1 (Conv2D)           (None, 128, 11, 32)       320       \n",
            "                                                                 \n",
            " MaxPooling2D_1 (MaxPooling2  (None, 64, 6, 32)        0         \n",
            " D)                                                              \n",
            "                                                                 \n",
            " BatchNormalization_1 (Batch  (None, 64, 6, 32)        128       \n",
            " Normalization)                                                  \n",
            "                                                                 \n",
            " Dropout_1 (Dropout)         (None, 64, 6, 32)         0         \n",
            "                                                                 \n",
            " Conv2d_2 (Conv2D)           (None, 62, 4, 32)         9248      \n",
            "                                                                 \n",
            " MaxPooling2D_2 (MaxPooling2  (None, 31, 2, 32)        0         \n",
            " D)                                                              \n",
            "                                                                 \n",
            " BatchNormalization_2 (Batch  (None, 31, 2, 32)        128       \n",
            " Normalization)                                                  \n",
            "                                                                 \n",
            " Dropout_2 (Dropout)         (None, 31, 2, 32)         0         \n",
            "                                                                 \n",
            " Conv2d_3 (Conv2D)           (None, 30, 1, 64)         8256      \n",
            "                                                                 \n",
            " MaxPooling2D_3 (MaxPooling2  (None, 15, 1, 64)        0         \n",
            " D)                                                              \n",
            "                                                                 \n",
            " BatchNormalization_3 (Batch  (None, 15, 1, 64)        256       \n",
            " Normalization)                                                  \n",
            "                                                                 \n",
            " Dropout_3 (Dropout)         (None, 15, 1, 64)         0         \n",
            "                                                                 \n",
            " Flatten (Flatten)           (None, 960)               0         \n",
            "                                                                 \n",
            " Dense_1 (Dense)             (None, 128)               123008    \n",
            "                                                                 \n",
            " Dropout_4 (Dropout)         (None, 128)               0         \n",
            "                                                                 \n",
            " Dense_2 (Dense)             (None, 10)                1290      \n",
            "                                                                 \n",
            "=================================================================\n",
            "Total params: 142,634\n",
            "Trainable params: 142,378\n",
            "Non-trainable params: 256\n",
            "_________________________________________________________________\n"
          ]
        }
      ]
    },
    {
      "cell_type": "markdown",
      "metadata": {
        "id": "XZKW3N3nGNVJ"
      },
      "source": [
        "# Evaluate the Model"
      ]
    },
    {
      "cell_type": "code",
      "metadata": {
        "colab": {
          "base_uri": "https://localhost:8080/"
        },
        "id": "1VTPocbIFwSI",
        "outputId": "85934bb9-6e73-46af-93ce-38e3cf2a539a"
      },
      "source": [
        "# compile model\n",
        "model.compile(optimizer=keras.optimizers.Adam(learning_rate=0.001), \n",
        "              loss='sparse_categorical_crossentropy',\n",
        "              metrics=['accuracy'])\n",
        "\n",
        "# train model\n",
        "history = model.fit(X_train, y_train, validation_data=(X_validate, y_validate), batch_size=32, epochs=45) "
      ],
      "execution_count": null,
      "outputs": [
        {
          "output_type": "stream",
          "name": "stdout",
          "text": [
            "Epoch 1/45\n",
            "424/424 [==============================] - 34s 78ms/step - loss: 1.2221 - accuracy: 0.5821 - val_loss: 0.9794 - val_accuracy: 0.6671\n",
            "Epoch 2/45\n",
            "424/424 [==============================] - 33s 77ms/step - loss: 0.8813 - accuracy: 0.6980 - val_loss: 0.8966 - val_accuracy: 0.7102\n",
            "Epoch 3/45\n",
            "424/424 [==============================] - 33s 77ms/step - loss: 0.7177 - accuracy: 0.7499 - val_loss: 0.7134 - val_accuracy: 0.7598\n",
            "Epoch 4/45\n",
            "424/424 [==============================] - 33s 77ms/step - loss: 0.6255 - accuracy: 0.7839 - val_loss: 0.6329 - val_accuracy: 0.7897\n",
            "Epoch 5/45\n",
            "424/424 [==============================] - 33s 77ms/step - loss: 0.5466 - accuracy: 0.8071 - val_loss: 0.5422 - val_accuracy: 0.8165\n",
            "Epoch 6/45\n",
            "424/424 [==============================] - 33s 78ms/step - loss: 0.4961 - accuracy: 0.8234 - val_loss: 0.5339 - val_accuracy: 0.8230\n",
            "Epoch 7/45\n",
            "424/424 [==============================] - 33s 78ms/step - loss: 0.4393 - accuracy: 0.8473 - val_loss: 0.6481 - val_accuracy: 0.7855\n",
            "Epoch 8/45\n",
            "424/424 [==============================] - 35s 83ms/step - loss: 0.3908 - accuracy: 0.8648 - val_loss: 0.5467 - val_accuracy: 0.8198\n",
            "Epoch 9/45\n",
            "424/424 [==============================] - 33s 78ms/step - loss: 0.3585 - accuracy: 0.8738 - val_loss: 0.5364 - val_accuracy: 0.8281\n",
            "Epoch 10/45\n",
            "424/424 [==============================] - 33s 79ms/step - loss: 0.3327 - accuracy: 0.8837 - val_loss: 0.5162 - val_accuracy: 0.8396\n",
            "Epoch 11/45\n",
            "424/424 [==============================] - 33s 78ms/step - loss: 0.3061 - accuracy: 0.8926 - val_loss: 0.5162 - val_accuracy: 0.8408\n",
            "Epoch 12/45\n",
            "424/424 [==============================] - 33s 78ms/step - loss: 0.2974 - accuracy: 0.8977 - val_loss: 0.5735 - val_accuracy: 0.8381\n",
            "Epoch 13/45\n",
            "424/424 [==============================] - 33s 78ms/step - loss: 0.2703 - accuracy: 0.9055 - val_loss: 0.5937 - val_accuracy: 0.8349\n",
            "Epoch 14/45\n",
            "424/424 [==============================] - 33s 77ms/step - loss: 0.2726 - accuracy: 0.9055 - val_loss: 0.5398 - val_accuracy: 0.8461\n",
            "Epoch 15/45\n",
            "424/424 [==============================] - 33s 77ms/step - loss: 0.2367 - accuracy: 0.9179 - val_loss: 0.5168 - val_accuracy: 0.8544\n",
            "Epoch 16/45\n",
            "424/424 [==============================] - 33s 77ms/step - loss: 0.2252 - accuracy: 0.9204 - val_loss: 0.6055 - val_accuracy: 0.8357\n",
            "Epoch 17/45\n",
            "424/424 [==============================] - 33s 78ms/step - loss: 0.2308 - accuracy: 0.9190 - val_loss: 0.5495 - val_accuracy: 0.8428\n",
            "Epoch 18/45\n",
            "424/424 [==============================] - 33s 77ms/step - loss: 0.2149 - accuracy: 0.9246 - val_loss: 0.5144 - val_accuracy: 0.8561\n",
            "Epoch 19/45\n",
            "424/424 [==============================] - 33s 77ms/step - loss: 0.1828 - accuracy: 0.9368 - val_loss: 0.5365 - val_accuracy: 0.8541\n",
            "Epoch 20/45\n",
            "424/424 [==============================] - 33s 77ms/step - loss: 0.1860 - accuracy: 0.9351 - val_loss: 0.5148 - val_accuracy: 0.8600\n",
            "Epoch 21/45\n",
            "424/424 [==============================] - 33s 77ms/step - loss: 0.1684 - accuracy: 0.9402 - val_loss: 0.5645 - val_accuracy: 0.8541\n",
            "Epoch 22/45\n",
            "424/424 [==============================] - 33s 78ms/step - loss: 0.1971 - accuracy: 0.9299 - val_loss: 0.5223 - val_accuracy: 0.8508\n",
            "Epoch 23/45\n",
            "424/424 [==============================] - 33s 78ms/step - loss: 0.1493 - accuracy: 0.9470 - val_loss: 0.5814 - val_accuracy: 0.8493\n",
            "Epoch 24/45\n",
            "424/424 [==============================] - 33s 79ms/step - loss: 0.1680 - accuracy: 0.9400 - val_loss: 0.5502 - val_accuracy: 0.8552\n",
            "Epoch 25/45\n",
            "424/424 [==============================] - 33s 79ms/step - loss: 0.1685 - accuracy: 0.9402 - val_loss: 0.5726 - val_accuracy: 0.8573\n",
            "Epoch 26/45\n",
            "424/424 [==============================] - 33s 78ms/step - loss: 0.1591 - accuracy: 0.9461 - val_loss: 0.6064 - val_accuracy: 0.8499\n",
            "Epoch 27/45\n",
            "424/424 [==============================] - 33s 78ms/step - loss: 0.1677 - accuracy: 0.9427 - val_loss: 0.5615 - val_accuracy: 0.8603\n",
            "Epoch 28/45\n",
            "424/424 [==============================] - 33s 78ms/step - loss: 0.1591 - accuracy: 0.9461 - val_loss: 0.5769 - val_accuracy: 0.8617\n",
            "Epoch 29/45\n",
            "424/424 [==============================] - 33s 78ms/step - loss: 0.1324 - accuracy: 0.9554 - val_loss: 0.5858 - val_accuracy: 0.8603\n",
            "Epoch 30/45\n",
            "424/424 [==============================] - 33s 78ms/step - loss: 0.1304 - accuracy: 0.9552 - val_loss: 0.6509 - val_accuracy: 0.8360\n",
            "Epoch 31/45\n",
            "424/424 [==============================] - 33s 78ms/step - loss: 0.1426 - accuracy: 0.9501 - val_loss: 0.6508 - val_accuracy: 0.8505\n",
            "Epoch 32/45\n",
            "424/424 [==============================] - 33s 78ms/step - loss: 0.1352 - accuracy: 0.9546 - val_loss: 0.5886 - val_accuracy: 0.8564\n",
            "Epoch 33/45\n",
            "424/424 [==============================] - 33s 78ms/step - loss: 0.1238 - accuracy: 0.9569 - val_loss: 0.6298 - val_accuracy: 0.8538\n",
            "Epoch 34/45\n",
            "424/424 [==============================] - 33s 78ms/step - loss: 0.1209 - accuracy: 0.9584 - val_loss: 0.5850 - val_accuracy: 0.8623\n",
            "Epoch 35/45\n",
            "424/424 [==============================] - 33s 78ms/step - loss: 0.1390 - accuracy: 0.9529 - val_loss: 0.6413 - val_accuracy: 0.8493\n",
            "Epoch 36/45\n",
            "424/424 [==============================] - 33s 78ms/step - loss: 0.1178 - accuracy: 0.9594 - val_loss: 0.6105 - val_accuracy: 0.8576\n",
            "Epoch 37/45\n",
            "424/424 [==============================] - 33s 78ms/step - loss: 0.1344 - accuracy: 0.9546 - val_loss: 0.6130 - val_accuracy: 0.8644\n",
            "Epoch 38/45\n",
            "424/424 [==============================] - 33s 78ms/step - loss: 0.1103 - accuracy: 0.9612 - val_loss: 0.6037 - val_accuracy: 0.8544\n",
            "Epoch 39/45\n",
            "424/424 [==============================] - 34s 79ms/step - loss: 0.1160 - accuracy: 0.9597 - val_loss: 0.6132 - val_accuracy: 0.8452\n",
            "Epoch 40/45\n",
            "424/424 [==============================] - 33s 79ms/step - loss: 0.1127 - accuracy: 0.9599 - val_loss: 0.6405 - val_accuracy: 0.8552\n",
            "Epoch 41/45\n",
            "424/424 [==============================] - 33s 79ms/step - loss: 0.1173 - accuracy: 0.9589 - val_loss: 0.6277 - val_accuracy: 0.8626\n",
            "Epoch 42/45\n",
            "424/424 [==============================] - 33s 79ms/step - loss: 0.1091 - accuracy: 0.9636 - val_loss: 0.6125 - val_accuracy: 0.8614\n",
            "Epoch 43/45\n",
            "424/424 [==============================] - 34s 79ms/step - loss: 0.1256 - accuracy: 0.9556 - val_loss: 0.6194 - val_accuracy: 0.8573\n",
            "Epoch 44/45\n",
            "424/424 [==============================] - 33s 79ms/step - loss: 0.1085 - accuracy: 0.9632 - val_loss: 0.5978 - val_accuracy: 0.8697\n",
            "Epoch 45/45\n",
            "424/424 [==============================] - 33s 79ms/step - loss: 0.1113 - accuracy: 0.9620 - val_loss: 0.6072 - val_accuracy: 0.8620\n"
          ]
        }
      ]
    },
    {
      "cell_type": "code",
      "source": [
        "test_loss, test_acc = model.evaluate(X_test, y_test, verbose=2)"
      ],
      "metadata": {
        "colab": {
          "base_uri": "https://localhost:8080/"
        },
        "id": "bkwS2TOzbDgF",
        "outputId": "4520d4e0-56b4-44de-cd1c-dc29bcc6322f"
      },
      "execution_count": null,
      "outputs": [
        {
          "output_type": "stream",
          "name": "stdout",
          "text": [
            "94/94 - 1s - loss: 0.5985 - accuracy: 0.8654 - 1s/epoch - 14ms/step\n"
          ]
        }
      ]
    },
    {
      "cell_type": "markdown",
      "metadata": {
        "id": "QvFDeOdSTiye"
      },
      "source": [
        "## Plot accuracy and loss"
      ]
    },
    {
      "cell_type": "code",
      "metadata": {
        "id": "6sJfQAZKTmKo",
        "colab": {
          "base_uri": "https://localhost:8080/",
          "height": 730
        },
        "outputId": "616336c7-de93-4dbb-b73e-46c5f5a179c8"
      },
      "source": [
        "fig, axs = plt.subplots(2, figsize=(12,12))\n",
        "\n",
        "# create accuracy sublpot\n",
        "axs[0].plot(history.history[\"accuracy\"], label=\"train accuracy\")\n",
        "axs[0].plot(history.history[\"val_accuracy\"], label=\"test accuracy\")\n",
        "axs[0].set_ylabel(\"Accuracy\")\n",
        "axs[0].legend(loc=\"lower right\")\n",
        "axs[0].set_title(\"Accuracy evaluation\")\n",
        "\n",
        "# create error sublpot\n",
        "axs[1].plot(history.history[\"loss\"], label=\"train error\")\n",
        "axs[1].plot(history.history[\"val_loss\"], label=\"test error\")\n",
        "axs[1].set_ylabel(\"Error\")\n",
        "axs[1].set_xlabel(\"Epoch\")\n",
        "axs[1].legend(loc=\"upper right\")\n",
        "axs[1].set_title(\"Error evaluation\")\n",
        "\n",
        "plt.show()"
      ],
      "execution_count": null,
      "outputs": [
        {
          "output_type": "display_data",
          "data": {
            "image/png": "[encoded data removed]",
            "text/plain": [
              "<Figure size 864x864 with 2 Axes>"
            ]
          },
          "metadata": {
            "needs_background": "light"
          }
        }
      ]
    },
    {
      "cell_type": "markdown",
      "source": [
        "## Predict"
      ],
      "metadata": {
        "id": "HEqTL7_rQSbw"
      }
    },
    {
      "cell_type": "code",
      "source": [
        "p1 = history.model.predict(X_train)\n",
        "p2 = history.model.predict(X_test)\n",
        "knn = KNeighborsClassifier(9)\n",
        "v = knn.fit(p1,y_train)\n",
        "knn_model = knn.predict(p2)\n",
        "knn_score = knn.score(p1, y_train)  "
      ],
      "metadata": {
        "id": "CCNohxtO_-8O"
      },
      "execution_count": null,
      "outputs": []
    },
    {
      "cell_type": "code",
      "source": [
        "accuracy = np.sum([1 for j in range(knn_model.shape[0]) if knn_model[j] == y_test[j]]) / knn_model.shape[0] # sum(model==dev_labels) / model.shape[0]\n",
        "accuracy"
      ],
      "metadata": {
        "colab": {
          "base_uri": "https://localhost:8080/"
        },
        "id": "cbyvseBLGwZE",
        "outputId": "6d414333-e7e4-47f4-bc6e-9ffc70bb9e25"
      },
      "execution_count": null,
      "outputs": [
        {
          "output_type": "execute_result",
          "data": {
            "text/plain": [
              "0.8654168061600268"
            ]
          },
          "metadata": {},
          "execution_count": 260
        }
      ]
    },
    {
      "cell_type": "code",
      "source": [
        "print(classification_report(y_test, knn_model))"
      ],
      "metadata": {
        "colab": {
          "base_uri": "https://localhost:8080/"
        },
        "id": "DFHxuJI6EWXv",
        "outputId": "e44d35d3-73d0-4466-c9e0-8b9c12aa39e7"
      },
      "execution_count": null,
      "outputs": [
        {
          "output_type": "stream",
          "name": "stdout",
          "text": [
            "              precision    recall  f1-score   support\n",
            "\n",
            "           0       0.85      0.88      0.86       322\n",
            "           1       0.91      0.88      0.90       289\n",
            "           2       0.84      0.84      0.84       313\n",
            "           3       0.96      0.94      0.95       329\n",
            "           4       0.89      0.86      0.88       303\n",
            "           5       0.83      0.81      0.82       283\n",
            "           6       0.91      0.93      0.92       306\n",
            "           7       0.79      0.80      0.80       292\n",
            "           8       0.82      0.84      0.83       280\n",
            "           9       0.84      0.86      0.85       270\n",
            "\n",
            "    accuracy                           0.87      2987\n",
            "   macro avg       0.86      0.86      0.86      2987\n",
            "weighted avg       0.87      0.87      0.87      2987\n",
            "\n"
          ]
        }
      ]
    },
    {
      "cell_type": "code",
      "source": [
        "title = \"Learning Curves (CNN+KNN)\"\n",
        "cv = ShuffleSplit(n_splits=100, test_size=0.4, random_state=0)\n",
        "plt = plot_learning_curve(knn, title, p1, y_train, n_jobs=4)"
      ],
      "metadata": {
        "colab": {
          "base_uri": "https://localhost:8080/",
          "height": 351
        },
        "id": "y2inXfUpUHAy",
        "outputId": "0fb3da7c-035e-4f76-ad3a-ef451b2b9fd1"
      },
      "execution_count": null,
      "outputs": [
        {
          "output_type": "display_data",
          "data": {
            "image/png": "[encoded data removed]",
            "text/plain": [
              "<Figure size 1440x360 with 3 Axes>"
            ]
          },
          "metadata": {
            "needs_background": "light"
          }
        }
      ]
    },
    {
      "cell_type": "code",
      "metadata": {
        "id": "_FU-woi9FzgP",
        "colab": {
          "base_uri": "https://localhost:8080/",
          "height": 676
        },
        "outputId": "5c020cd5-5225-430d-ebb3-7126ba2f2b1a"
      },
      "source": [
        "cnn = lambda model, X: np.argmax(model.predict(X[np.newaxis, ...]), axis=1)\n",
        "\n",
        "columns = ['Actual', 'CNN Predicted', 'CNN+KNN Predicted']\n",
        "df = pd.DataFrame(columns = columns)\n",
        "  \n",
        "for i in range(20):\n",
        "  ridx = random.randint(0, len(X_test))\n",
        "  df.loc[i, 'Actual'] = genres[y_test[ridx]]\n",
        "  df.loc[i, 'CNN Predicted'] = genres[cnn(model, X_test[ridx])[0]]\n",
        "  df.loc[i, 'CNN+KNN Predicted'] = genres[knn_model[ridx]]\n",
        "  \n",
        "df"
      ],
      "execution_count": null,
      "outputs": [
        {
          "output_type": "execute_result",
          "data": {
            "text/html": [
              "<div>\n",
              "<style scoped>\n",
              "    .dataframe tbody tr th:only-of-type {\n",
              "        vertical-align: middle;\n",
              "    }\n",
              "\n",
              "    .dataframe tbody tr th {\n",
              "        vertical-align: top;\n",
              "    }\n",
              "\n",
              "    .dataframe thead th {\n",
              "        text-align: right;\n",
              "    }\n",
              "</style>\n",
              "<table border=\"1\" class=\"dataframe\">\n",
              "  <thead>\n",
              "    <tr style=\"text-align: right;\">\n",
              "      <th></th>\n",
              "      <th>Actual</th>\n",
              "      <th>CNN Predicted</th>\n",
              "      <th>CNN+KNN Predicted</th>\n",
              "    </tr>\n",
              "  </thead>\n",
              "  <tbody>\n",
              "    <tr>\n",
              "      <th>0</th>\n",
              "      <td>trap</td>\n",
              "      <td>trap</td>\n",
              "      <td>trap</td>\n",
              "    </tr>\n",
              "    <tr>\n",
              "      <th>1</th>\n",
              "      <td>modern rock</td>\n",
              "      <td>pop</td>\n",
              "      <td>pop</td>\n",
              "    </tr>\n",
              "    <tr>\n",
              "      <th>2</th>\n",
              "      <td>pop rap</td>\n",
              "      <td>pop rap</td>\n",
              "      <td>pop rap</td>\n",
              "    </tr>\n",
              "    <tr>\n",
              "      <th>3</th>\n",
              "      <td>rap</td>\n",
              "      <td>rap</td>\n",
              "      <td>rap</td>\n",
              "    </tr>\n",
              "    <tr>\n",
              "      <th>4</th>\n",
              "      <td>rap</td>\n",
              "      <td>rap</td>\n",
              "      <td>rap</td>\n",
              "    </tr>\n",
              "    <tr>\n",
              "      <th>5</th>\n",
              "      <td>dance pop</td>\n",
              "      <td>dance pop</td>\n",
              "      <td>dance pop</td>\n",
              "    </tr>\n",
              "    <tr>\n",
              "      <th>6</th>\n",
              "      <td>trap latino</td>\n",
              "      <td>trap latino</td>\n",
              "      <td>trap latino</td>\n",
              "    </tr>\n",
              "    <tr>\n",
              "      <th>7</th>\n",
              "      <td>trap</td>\n",
              "      <td>trap</td>\n",
              "      <td>trap</td>\n",
              "    </tr>\n",
              "    <tr>\n",
              "      <th>8</th>\n",
              "      <td>pop rap</td>\n",
              "      <td>pop rap</td>\n",
              "      <td>pop rap</td>\n",
              "    </tr>\n",
              "    <tr>\n",
              "      <th>9</th>\n",
              "      <td>modern rock</td>\n",
              "      <td>modern rock</td>\n",
              "      <td>modern rock</td>\n",
              "    </tr>\n",
              "    <tr>\n",
              "      <th>10</th>\n",
              "      <td>latin</td>\n",
              "      <td>latin</td>\n",
              "      <td>latin</td>\n",
              "    </tr>\n",
              "    <tr>\n",
              "      <th>11</th>\n",
              "      <td>pop</td>\n",
              "      <td>pop</td>\n",
              "      <td>pop</td>\n",
              "    </tr>\n",
              "    <tr>\n",
              "      <th>12</th>\n",
              "      <td>pop</td>\n",
              "      <td>pop</td>\n",
              "      <td>pop</td>\n",
              "    </tr>\n",
              "    <tr>\n",
              "      <th>13</th>\n",
              "      <td>rock</td>\n",
              "      <td>rock</td>\n",
              "      <td>rock</td>\n",
              "    </tr>\n",
              "    <tr>\n",
              "      <th>14</th>\n",
              "      <td>rock</td>\n",
              "      <td>rock</td>\n",
              "      <td>rock</td>\n",
              "    </tr>\n",
              "    <tr>\n",
              "      <th>15</th>\n",
              "      <td>dance pop</td>\n",
              "      <td>dance pop</td>\n",
              "      <td>dance pop</td>\n",
              "    </tr>\n",
              "    <tr>\n",
              "      <th>16</th>\n",
              "      <td>rap</td>\n",
              "      <td>rap</td>\n",
              "      <td>rap</td>\n",
              "    </tr>\n",
              "    <tr>\n",
              "      <th>17</th>\n",
              "      <td>hip hop</td>\n",
              "      <td>hip hop</td>\n",
              "      <td>hip hop</td>\n",
              "    </tr>\n",
              "    <tr>\n",
              "      <th>18</th>\n",
              "      <td>trap latino</td>\n",
              "      <td>latin</td>\n",
              "      <td>trap latino</td>\n",
              "    </tr>\n",
              "    <tr>\n",
              "      <th>19</th>\n",
              "      <td>pop</td>\n",
              "      <td>pop</td>\n",
              "      <td>pop</td>\n",
              "    </tr>\n",
              "  </tbody>\n",
              "</table>\n",
              "</div>"
            ],
            "text/plain": [
              "         Actual CNN Predicted CNN+KNN Predicted\n",
              "0          trap          trap              trap\n",
              "1   modern rock           pop               pop\n",
              "2       pop rap       pop rap           pop rap\n",
              "3           rap           rap               rap\n",
              "4           rap           rap               rap\n",
              "5     dance pop     dance pop         dance pop\n",
              "6   trap latino   trap latino       trap latino\n",
              "7          trap          trap              trap\n",
              "8       pop rap       pop rap           pop rap\n",
              "9   modern rock   modern rock       modern rock\n",
              "10        latin         latin             latin\n",
              "11          pop           pop               pop\n",
              "12          pop           pop               pop\n",
              "13         rock          rock              rock\n",
              "14         rock          rock              rock\n",
              "15    dance pop     dance pop         dance pop\n",
              "16          rap           rap               rap\n",
              "17      hip hop       hip hop           hip hop\n",
              "18  trap latino         latin       trap latino\n",
              "19          pop           pop               pop"
            ]
          },
          "metadata": {},
          "execution_count": 263
        }
      ]
    },
    {
      "cell_type": "code",
      "source": [
        ""
      ],
      "metadata": {
        "id": "BNYPp3HcDrpa"
      },
      "execution_count": null,
      "outputs": []
    }
  ]
}